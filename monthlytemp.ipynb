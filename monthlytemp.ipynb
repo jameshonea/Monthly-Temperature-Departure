{
 "cells": [
  {
   "cell_type": "markdown",
   "metadata": {},
   "source": [
    "It's firmly established science that the Earth is warming, but that does not mean that the warming is uniform in time. I would like to calculate the mean temperature departure for each month to determine if warming has been more significant in some months over others. I will start with one location, but the process can be generalized to multiple locations."
   ]
  },
  {
   "cell_type": "code",
   "execution_count": null,
   "metadata": {},
   "outputs": [],
   "source": [
    "import pandas as pd\n",
    "import matplotlib.pyplot as plt\n",
    "%matplotlib inline\n",
    "\n",
    "whitestown = pd.read_csv(\"C:\\csv\\whitestownweather.csv\")\n",
    "\n",
    "cols = ['DATE', 'TMAX', 'TMIN']\n",
    "whitestown = whitestown[cols]\n",
    "whitestown.head()"
   ]
  },
  {
   "cell_type": "markdown",
   "metadata": {},
   "source": [
    "I would first like to group all temperatures from a given month into one row with the TMAX and TMIN columns being the averages for each month. From this we can seperate the data by month and plot each month seperately (I am aware that I can just get monthly temperature data from NWS but I'm practicing here)."
   ]
  },
  {
   "cell_type": "code",
   "execution_count": null,
   "metadata": {},
   "outputs": [],
   "source": [
    "whitestown['TIME'] = pd.to_datetime(whitestown['DATE'])\n",
    "whitestown['MONTH'] = whitestown['TIME'].dt.month\n",
    "whitestown['YEAR'] = whitestown['TIME'].dt.year\n",
    "\n",
    "temp_month = whitestown.groupby(['YEAR', 'MONTH']).mean()\n",
    "whitestown.head()\n",
    "\n"
   ]
  },
  {
   "cell_type": "code",
   "execution_count": null,
   "metadata": {},
   "outputs": [],
   "source": [
    "january = whitestown[whitestown[\"MONTH\"] == 1]\n",
    "january_mean = january.groupby('YEAR').mean()\n",
    "plt.boxplot(january_mean['TMAX'])\n",
    "plt.show()\n",
    "\n",
    "\n"
   ]
  },
  {
   "cell_type": "code",
   "execution_count": null,
   "metadata": {},
   "outputs": [],
   "source": [
    "del january['TMIN']\n",
    "del january['MONTH']\n",
    "del january['DATE']\n",
    "del january['TIME']\n",
    "january.head()\n",
    "\n",
    "fig, ax = plt.subplots(figsize=(15,7))\n",
    "january.groupby(['YEAR']).mean()['TMAX'].plot(ax=ax)"
   ]
  },
  {
   "cell_type": "markdown",
   "metadata": {},
   "source": [
    "below is a quick sanity test."
   ]
  },
  {
   "cell_type": "code",
   "execution_count": null,
   "metadata": {},
   "outputs": [],
   "source": [
    "temp_anomaly_plus = []\n",
    "temp_anomaly_minus = []\n",
    "\n",
    "whitestown_slice = whitestown[whitestown['YEAR'] > 1950]\n",
    "\n",
    "\n",
    "    \n",
    "            \n",
    "    \n"
   ]
  },
  {
   "cell_type": "code",
   "execution_count": null,
   "metadata": {},
   "outputs": [],
   "source": [
    "\n",
    "for index, row in whitestown_slice.iterrows():\n",
    "    start = row[5] - 30\n",
    "    data_slice = whitestown_slice[whitestown_slice['YEAR'] > start]\n",
    "    data_slice = data_slice[data_slice['YEAR'] < row[5]]\n",
    "    \n",
    "    average = data_slice['TMAX'].mean()\n",
    "    anomaly = row[1] - average\n",
    "    \n",
    "    if anomaly > 0:\n",
    "        temp_anomaly_plus.append(anomaly)\n",
    "    elif anomaly < 0:\n",
    "        temp_anomaly_minus.append(anomaly)\n",
    "\n",
    "\n",
    "plus = len(temp_anomaly_plus)\n",
    "minus = len(temp_anomaly_minus)\n"
   ]
  },
  {
   "cell_type": "code",
   "execution_count": 110,
   "metadata": {},
   "outputs": [
    {
     "name": "stdout",
     "output_type": "stream",
     "text": [
      "26491\n"
     ]
    }
   ],
   "source": [
    "print(len(temp_anomaly_plus))"
   ]
  },
  {
   "cell_type": "code",
   "execution_count": 111,
   "metadata": {},
   "outputs": [
    {
     "name": "stdout",
     "output_type": "stream",
     "text": [
      "22318\n"
     ]
    }
   ],
   "source": [
    "print(len(temp_anomaly_minus))"
   ]
  },
  {
   "cell_type": "code",
   "execution_count": null,
   "metadata": {},
   "outputs": [],
   "source": []
  }
 ],
 "metadata": {
  "kernelspec": {
   "display_name": "Python 3",
   "language": "python",
   "name": "python3"
  },
  "language_info": {
   "codemirror_mode": {
    "name": "ipython",
    "version": 3
   },
   "file_extension": ".py",
   "mimetype": "text/x-python",
   "name": "python",
   "nbconvert_exporter": "python",
   "pygments_lexer": "ipython3",
   "version": "3.7.3"
  }
 },
 "nbformat": 4,
 "nbformat_minor": 2
}
