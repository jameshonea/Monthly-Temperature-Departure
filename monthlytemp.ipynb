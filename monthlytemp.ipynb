{
 "cells": [
  {
   "cell_type": "markdown",
   "metadata": {},
   "source": [
    "It's firmly established science that the Earth is warming, but that does not mean that the warming is uniform in time. I would like to calculate the mean temperature departure for each month to determine if warming has been more significant in some months over others. I will start with one location, but the process can be generalized to multiple locations."
   ]
  },
  {
   "cell_type": "code",
   "execution_count": 4,
   "metadata": {},
   "outputs": [
    {
     "data": {
      "text/html": [
       "<div>\n",
       "<style scoped>\n",
       "    .dataframe tbody tr th:only-of-type {\n",
       "        vertical-align: middle;\n",
       "    }\n",
       "\n",
       "    .dataframe tbody tr th {\n",
       "        vertical-align: top;\n",
       "    }\n",
       "\n",
       "    .dataframe thead th {\n",
       "        text-align: right;\n",
       "    }\n",
       "</style>\n",
       "<table border=\"1\" class=\"dataframe\">\n",
       "  <thead>\n",
       "    <tr style=\"text-align: right;\">\n",
       "      <th></th>\n",
       "      <th>STATION</th>\n",
       "      <th>LATITUDE</th>\n",
       "      <th>LONGITUDE</th>\n",
       "      <th>ELEVATION</th>\n",
       "      <th>DATE</th>\n",
       "      <th>TMAX</th>\n",
       "      <th>TMIN</th>\n",
       "    </tr>\n",
       "  </thead>\n",
       "  <tbody>\n",
       "    <tr>\n",
       "      <th>0</th>\n",
       "      <td>USC00129557</td>\n",
       "      <td>39.9962</td>\n",
       "      <td>-86.3543</td>\n",
       "      <td>286.8</td>\n",
       "      <td>1901-01-01</td>\n",
       "      <td>20.0</td>\n",
       "      <td>-4.0</td>\n",
       "    </tr>\n",
       "    <tr>\n",
       "      <th>1</th>\n",
       "      <td>USC00129557</td>\n",
       "      <td>39.9962</td>\n",
       "      <td>-86.3543</td>\n",
       "      <td>286.8</td>\n",
       "      <td>1901-01-02</td>\n",
       "      <td>21.0</td>\n",
       "      <td>-12.0</td>\n",
       "    </tr>\n",
       "    <tr>\n",
       "      <th>2</th>\n",
       "      <td>USC00129557</td>\n",
       "      <td>39.9962</td>\n",
       "      <td>-86.3543</td>\n",
       "      <td>286.8</td>\n",
       "      <td>1901-01-03</td>\n",
       "      <td>28.0</td>\n",
       "      <td>-6.0</td>\n",
       "    </tr>\n",
       "    <tr>\n",
       "      <th>3</th>\n",
       "      <td>USC00129557</td>\n",
       "      <td>39.9962</td>\n",
       "      <td>-86.3543</td>\n",
       "      <td>286.8</td>\n",
       "      <td>1901-01-04</td>\n",
       "      <td>40.0</td>\n",
       "      <td>3.0</td>\n",
       "    </tr>\n",
       "    <tr>\n",
       "      <th>4</th>\n",
       "      <td>USC00129557</td>\n",
       "      <td>39.9962</td>\n",
       "      <td>-86.3543</td>\n",
       "      <td>286.8</td>\n",
       "      <td>1901-01-05</td>\n",
       "      <td>35.0</td>\n",
       "      <td>18.0</td>\n",
       "    </tr>\n",
       "  </tbody>\n",
       "</table>\n",
       "</div>"
      ],
      "text/plain": [
       "       STATION  LATITUDE  LONGITUDE  ELEVATION        DATE  TMAX  TMIN\n",
       "0  USC00129557   39.9962   -86.3543      286.8  1901-01-01  20.0  -4.0\n",
       "1  USC00129557   39.9962   -86.3543      286.8  1901-01-02  21.0 -12.0\n",
       "2  USC00129557   39.9962   -86.3543      286.8  1901-01-03  28.0  -6.0\n",
       "3  USC00129557   39.9962   -86.3543      286.8  1901-01-04  40.0   3.0\n",
       "4  USC00129557   39.9962   -86.3543      286.8  1901-01-05  35.0  18.0"
      ]
     },
     "execution_count": 4,
     "metadata": {},
     "output_type": "execute_result"
    }
   ],
   "source": [
    "import pandas as pd\n",
    "import matplotlib.pyplot as plt\n",
    "%matplotlib inline\n",
    "\n",
    "whitestown = pd.read_csv(\"C:\\csv\\whitestownweather.csv\")\n",
    "\n",
    "cols = ['STATION', 'LATITUDE', 'LONGITUDE', 'ELEVATION', 'DATE', 'TMAX', 'TMIN']\n",
    "whitestown = whitestown[cols]\n",
    "whitestown.head()"
   ]
  },
  {
   "cell_type": "markdown",
   "metadata": {},
   "source": [
    "I would first like to group all temperatures from a given month into one row with the TMAX and TMIN columns being the averages for each month. From this we can seperate the data by month and plot each month seperately (I am aware that I can just get monthly temperature data from NWS but I'm practicing here)."
   ]
  },
  {
   "cell_type": "code",
   "execution_count": 17,
   "metadata": {},
   "outputs": [
    {
     "data": {
      "text/html": [
       "<div>\n",
       "<style scoped>\n",
       "    .dataframe tbody tr th:only-of-type {\n",
       "        vertical-align: middle;\n",
       "    }\n",
       "\n",
       "    .dataframe tbody tr th {\n",
       "        vertical-align: top;\n",
       "    }\n",
       "\n",
       "    .dataframe thead th {\n",
       "        text-align: right;\n",
       "    }\n",
       "</style>\n",
       "<table border=\"1\" class=\"dataframe\">\n",
       "  <thead>\n",
       "    <tr style=\"text-align: right;\">\n",
       "      <th></th>\n",
       "      <th></th>\n",
       "      <th>TMAX</th>\n",
       "      <th>TMIN</th>\n",
       "    </tr>\n",
       "    <tr>\n",
       "      <th>YEAR</th>\n",
       "      <th>MONTH</th>\n",
       "      <th></th>\n",
       "      <th></th>\n",
       "    </tr>\n",
       "  </thead>\n",
       "  <tbody>\n",
       "    <tr>\n",
       "      <th rowspan=\"5\" valign=\"top\">1901</th>\n",
       "      <th>1</th>\n",
       "      <td>37.064516</td>\n",
       "      <td>16.419355</td>\n",
       "    </tr>\n",
       "    <tr>\n",
       "      <th>2</th>\n",
       "      <td>31.214286</td>\n",
       "      <td>11.357143</td>\n",
       "    </tr>\n",
       "    <tr>\n",
       "      <th>3</th>\n",
       "      <td>47.387097</td>\n",
       "      <td>29.548387</td>\n",
       "    </tr>\n",
       "    <tr>\n",
       "      <th>4</th>\n",
       "      <td>58.600000</td>\n",
       "      <td>35.433333</td>\n",
       "    </tr>\n",
       "    <tr>\n",
       "      <th>5</th>\n",
       "      <td>69.354839</td>\n",
       "      <td>47.225806</td>\n",
       "    </tr>\n",
       "  </tbody>\n",
       "</table>\n",
       "</div>"
      ],
      "text/plain": [
       "                 TMAX       TMIN\n",
       "YEAR MONTH                      \n",
       "1901 1      37.064516  16.419355\n",
       "     2      31.214286  11.357143\n",
       "     3      47.387097  29.548387\n",
       "     4      58.600000  35.433333\n",
       "     5      69.354839  47.225806"
      ]
     },
     "execution_count": 17,
     "metadata": {},
     "output_type": "execute_result"
    }
   ],
   "source": [
    "whitestown['TIME'] = pd.to_datetime(whitestown['DATE'])\n",
    "whitestown['MONTH'] = whitestown['TIME'].dt.month\n",
    "whitestown['YEAR'] = whitestown['TIME'].dt.year\n",
    "\n",
    "temp_month = whitestown.groupby(['YEAR', 'MONTH']).mean()\n",
    "\n",
    "temp_month.head()"
   ]
  },
  {
   "cell_type": "code",
   "execution_count": 30,
   "metadata": {},
   "outputs": [
    {
     "data": {
      "image/png": "[encoded data removed]",
      "text/plain": [
       "<Figure size 432x288 with 1 Axes>"
      ]
     },
     "metadata": {
      "needs_background": "light"
     },
     "output_type": "display_data"
    }
   ],
   "source": [
    "january = whitestown[whitestown[\"MONTH\"] == 1]\n",
    "january = january.groupby('YEAR').mean()\n",
    "plt.boxplot(january['TMAX'])\n",
    "plt.show()\n",
    "\n"
   ]
  },
  {
   "cell_type": "code",
   "execution_count": null,
   "metadata": {},
   "outputs": [],
   "source": []
  }
 ],
 "metadata": {
  "kernelspec": {
   "display_name": "Python 3",
   "language": "python",
   "name": "python3"
  },
  "language_info": {
   "codemirror_mode": {
    "name": "ipython",
    "version": 3
   },
   "file_extension": ".py",
   "mimetype": "text/x-python",
   "name": "python",
   "nbconvert_exporter": "python",
   "pygments_lexer": "ipython3",
   "version": "3.7.3"
  }
 },
 "nbformat": 4,
 "nbformat_minor": 2
}
